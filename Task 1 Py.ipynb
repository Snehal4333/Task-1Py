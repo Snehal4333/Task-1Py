{
 "cells": [
  {
   "cell_type": "markdown",
   "id": "16865ab9-44ad-4314-965f-df19c5fc37d8",
   "metadata": {},
   "source": [
    "# 1-Tittle\n",
    "\n",
    "# Header\n"
   ]
  },
  {
   "cell_type": "markdown",
   "id": "5346e181-3375-49ab-9a9d-5c79deb6f895",
   "metadata": {},
   "source": [
    "# 2-Bullet Lists\n",
    "\n",
    "* Python\n",
    "* > PyQt\n",
    "* > Flask\n",
    "* > Pandas"
   ]
  },
  {
   "cell_type": "markdown",
   "id": "d0d76c05-56c5-470e-9cd4-d55eeb90db37",
   "metadata": {},
   "source": [
    "<a id='bold'></a>\n",
    "# 3-Bold and Italic\n",
    "\n",
    "**Beautiful** is better than *ugly*"
   ]
  },
  {
   "cell_type": "markdown",
   "id": "4f63b1de-9368-47d9-8aa5-cdd9c97d6710",
   "metadata": {},
   "source": [
    "# 4-Table\n",
    "\n",
    "|Name|Age|Marks|\n",
    "|----|---|-----|\n",
    "|Kiran|21|165|\n",
    "|Komal|20|153|\n",
    "|Sejal|19|149|"
   ]
  },
  {
   "cell_type": "markdown",
   "id": "f5cf6c7a-0aef-4f0e-b0d0-8e5aa7aaff4f",
   "metadata": {},
   "source": [
    "# 5-Calculation\n",
    "\n"
   ]
  },
  {
   "cell_type": "code",
   "execution_count": 32,
   "id": "077c7f34-0569-4761-a5b5-7cae03161e3f",
   "metadata": {},
   "outputs": [
    {
     "data": {
      "text/plain": [
       "-1"
      ]
     },
     "execution_count": 32,
     "metadata": {},
     "output_type": "execute_result"
    }
   ],
   "source": [
    "2+3-6"
   ]
  },
  {
   "cell_type": "markdown",
   "id": "b3c8e591-0f8a-4d42-82d0-c6cdc1ca8077",
   "metadata": {},
   "source": [
    "# 6-Square Calulation"
   ]
  },
  {
   "cell_type": "code",
   "execution_count": 68,
   "id": "49efc5f8-95a6-49c0-a665-1234f0bdd7e2",
   "metadata": {},
   "outputs": [
    {
     "data": {
      "text/plain": [
       "25"
      ]
     },
     "execution_count": 68,
     "metadata": {},
     "output_type": "execute_result"
    }
   ],
   "source": [
    "5**2"
   ]
  },
  {
   "cell_type": "markdown",
   "id": "34eaa9d2-309c-4cac-a445-d918096ab74d",
   "metadata": {},
   "source": [
    "# 7-Print\n",
    "\n",
    "print('Hey World')\n"
   ]
  },
  {
   "cell_type": "markdown",
   "id": "4f20c168-3ef0-4ec9-b2ba-147226b58678",
   "metadata": {},
   "source": [
    "# 8-Horizontal Rule\n",
    "\n",
    "This is Horizontal Rule\n",
    "***\n",
    "***\n",
    "***\n",
    "***"
   ]
  },
  {
   "cell_type": "markdown",
   "id": "174d98dd-3ffe-4095-b6ec-d2261bba77cb",
   "metadata": {},
   "source": [
    "# 8-Color\n",
    "\n"
   ]
  },
  {
   "cell_type": "markdown",
   "id": "e12c89c1-2ef6-416e-b4c3-19dc23d31927",
   "metadata": {},
   "source": [
    "<font color =Red> DATA ANALYTICS </font>"
   ]
  },
  {
   "cell_type": "markdown",
   "id": "4d88e612-f8e9-4a47-9680-936761a0d1be",
   "metadata": {},
   "source": [
    "# 9-Blockquote"
   ]
  },
  {
   "cell_type": "markdown",
   "id": "f8a648f6-ad7b-48f7-8f81-ae0c0f5754fe",
   "metadata": {},
   "source": [
    ">This is first line\n",
    ">>This is second line\n",
    ">>>This is third line"
   ]
  },
  {
   "cell_type": "markdown",
   "id": "83b5a0e8-9f24-4382-b7f1-8d2d891c40f6",
   "metadata": {},
   "source": [
    "# 10-Checkbox\n",
    "\n"
   ]
  },
  {
   "cell_type": "markdown",
   "id": "95048b2d-45ae-41a2-90bd-a797e1c1cc92",
   "metadata": {},
   "source": [
    "* PYTHON\n",
    "* SQL\n",
    "* POWER BI\n",
    "* EXCEL\n"
   ]
  },
  {
   "cell_type": "markdown",
   "id": "1835d882-1cab-4867-a03e-c3d1a9f75a6e",
   "metadata": {},
   "source": [
    "# 11-Ordered List\n"
   ]
  },
  {
   "cell_type": "markdown",
   "id": "2000aa86-060c-4914-8bac-3b96ef7b2488",
   "metadata": {},
   "source": [
    "1.Python\n",
    "\n",
    "2.R\n",
    "\n",
    "3.Julia\n",
    "\n"
   ]
  },
  {
   "cell_type": "markdown",
   "id": "b163c5c8-d93b-45e4-a799-456beec8c7a2",
   "metadata": {},
   "source": [
    "# 12-Unordered List"
   ]
  },
  {
   "cell_type": "markdown",
   "id": "faa1f4e4-5a74-487e-9648-a55b2ebc295f",
   "metadata": {},
   "source": [
    "- Python\n",
    "- R\n",
    "- Julia\n"
   ]
  },
  {
   "cell_type": "markdown",
   "id": "e057d8b8-fc49-4504-aa29-e72f04d4aa2d",
   "metadata": {},
   "source": [
    "# 13-Math Symbol"
   ]
  },
  {
   "cell_type": "markdown",
   "id": "0cbc5421-8c4a-4846-a24e-12ee8737dd67",
   "metadata": {},
   "source": [
    "$\\sum$\n",
    "$\\star$\n",
    "$\\forall$\n",
    "$\\mu$"
   ]
  },
  {
   "cell_type": "markdown",
   "id": "e8da8474-b388-43cd-92fd-dbfd366b8b61",
   "metadata": {},
   "source": [
    " # 14-Line Break"
   ]
  },
  {
   "cell_type": "markdown",
   "id": "a27e45b9-20ba-4e5a-8cf8-ff25d5097814",
   "metadata": {},
   "source": [
    "First Sentence <br> Second Sentence"
   ]
  },
  {
   "cell_type": "markdown",
   "id": "9bf8d5e0-0571-41d3-a2fc-7677b8803e85",
   "metadata": {},
   "source": [
    "# 15-Internal Links"
   ]
  },
  {
   "cell_type": "markdown",
   "id": "1c711a6e-0497-4a36-a8e5-38b85887670b",
   "metadata": {},
   "source": [
    "[Take Me to BOLD](#bold)"
   ]
  }
 ],
 "metadata": {
  "kernelspec": {
   "display_name": "Python 3 (ipykernel)",
   "language": "python",
   "name": "python3"
  },
  "language_info": {
   "codemirror_mode": {
    "name": "ipython",
    "version": 3
   },
   "file_extension": ".py",
   "mimetype": "text/x-python",
   "name": "python",
   "nbconvert_exporter": "python",
   "pygments_lexer": "ipython3",
   "version": "3.12.4"
  }
 },
 "nbformat": 4,
 "nbformat_minor": 5
}
